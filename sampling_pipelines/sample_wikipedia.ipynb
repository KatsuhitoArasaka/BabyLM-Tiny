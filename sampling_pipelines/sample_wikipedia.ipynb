{
 "cells": [
  {
   "cell_type": "code",
   "execution_count": null,
   "metadata": {},
   "outputs": [],
   "source": [
    "import wikipediaapi\n",
    "wikipedia = wikipediaapi.Wikipedia(user_agent='TUM_NLP (moritz.ladenburger@tum.de)', language='en')\n",
    "\n",
    "API_URL = \"https://en.wikipedia.org/w/api.php\"\n",
    "\n",
    "wiki_html = wikipediaapi.Wikipedia(\n",
    "    user_agent='TUM_NLP (moritz.ladenburger@tum.de)',\n",
    "    language='en',\n",
    "    extract_format=wikipediaapi.ExtractFormat.WIKI\n",
    ")\n",
    "\n",
    "def get_category_articles(category):\n",
    "    cat = wikipedia.page(f\"Category:{category}\")\n",
    "    return cat.categorymembers.values()\n",
    "\n",
    "def get_page_text(title):\n",
    "    page = wiki_html.page(title)\n",
    "    if page.exists():\n",
    "        return page.text\n",
    "    else:\n",
    "        return None\n",
    "    "
   ]
  },
  {
   "cell_type": "code",
   "execution_count": null,
   "metadata": {},
   "outputs": [],
   "source": [
    "def create_dataset_from_category(category, name, no_words):\n",
    "    total_words = int(no_words * 1.2)\n",
    "    articles = get_category_articles(category)\n",
    "    text = \"\"\n",
    "    text_len = 0\n",
    "\n",
    "    for article in articles:\n",
    "        if text_len >= total_words:\n",
    "            break\n",
    "        page_text = get_page_text(article.title)\n",
    "        if page_text:\n",
    "            text += page_text + \"\\n\\n \"\n",
    "            text_len += len(page_text.split())\n",
    "        \n",
    "    with open(f\"../datasets/wiki_categories/{name}.train\", 'w') as f:\n",
    "        train_text = \" \".join(text.split()[:no_words])\n",
    "        print(f\"Total words: {len(train_text.split())}\")\n",
    "        f.write(train_text)\n",
    "    with open(f\"../datasets/wiki_categories/{name}_dev.train\", 'w') as f:\n",
    "        train_text = \" \".join(text.split()[no_words:total_words])\n",
    "        print(f\"Total dev words: {len(train_text.split())}\")\n",
    "        f.write(train_text)"
   ]
  }
 ],
 "metadata": {
  "kernelspec": {
   "display_name": ".venv",
   "language": "python",
   "name": "python3"
  },
  "language_info": {
   "codemirror_mode": {
    "name": "ipython",
    "version": 3
   },
   "file_extension": ".py",
   "mimetype": "text/x-python",
   "name": "python",
   "nbconvert_exporter": "python",
   "pygments_lexer": "ipython3",
   "version": "3.12.3"
  }
 },
 "nbformat": 4,
 "nbformat_minor": 2
}
