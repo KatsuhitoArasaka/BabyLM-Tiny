{
  "nbformat": 4,
  "nbformat_minor": 0,
  "metadata": {
    "colab": {
      "provenance": [],
      "authorship_tag": "ABX9TyMOhyInDpmfxT2P5gvhRKYq",
      "include_colab_link": true
    },
    "kernelspec": {
      "name": "python3",
      "display_name": "Python 3"
    },
    "language_info": {
      "name": "python"
    }
  },
  "cells": [
    {
      "cell_type": "markdown",
      "metadata": {
        "id": "view-in-github",
        "colab_type": "text"
      },
      "source": [
        "<a href=\"https://colab.research.google.com/github/KatsuhitoArasaka/BabyLM-Tiny/blob/main/sampling_pipelines/sampling_subtitles.ipynb\" target=\"_parent\"><img src=\"https://colab.research.google.com/assets/colab-badge.svg\" alt=\"Open In Colab\"/></a>"
      ]
    },
    {
      "cell_type": "code",
      "execution_count": null,
      "metadata": {
        "id": "u_KxNoh2Pv-U"
      },
      "outputs": [],
      "source": [
        "!pip install tmdbsimple\n",
        "\n",
        "import tmdbsimple as tmdb\n",
        "\n",
        "# 👇 Replace with your own API key\n",
        "tmdb.API_KEY = \"PASTE_YOUR_TMDB_API_KEY_HERE\"\n",
        "\n",
        "# Example call: get genres\n",
        "genres = tmdb.Genres().movie_list()['genres']\n",
        "print(\"✅ Available TMDb genres:\")\n",
        "for g in genres:\n",
        "    print(f\"{g['id']:>3} → {g['name']}\")"
      ]
    },
    {
      "cell_type": "code",
      "source": [
        "from tqdm import tqdm\n",
        "\n",
        "def get_movies_by_genre_popularity(genre_id, max_pages):\n",
        "    \"\"\"\n",
        "    Fetches movies by TMDb genre ID using the /discover endpoint.\n",
        "    Returns: list of dicts with title, year, and IMDb ID\n",
        "    \"\"\"\n",
        "    all_movies = []\n",
        "\n",
        "    for page in tqdm(range(1, max_pages + 1)):\n",
        "        try:\n",
        "            response = tmdb.Discover().movie(\n",
        "                with_genres=genre_id,\n",
        "                sort_by='popularity.desc',\n",
        "                page=page,\n",
        "                language='en-US'\n",
        "            )\n",
        "            for movie in response['results']:\n",
        "                tmdb_id = movie['id']\n",
        "                try:\n",
        "                    movie_data = tmdb.Movies(tmdb_id).info()\n",
        "                    imdb_id = movie_data.get(\"imdb_id\")\n",
        "                    title = movie_data.get(\"title\")\n",
        "                    year = movie_data.get(\"release_date\", \"\")[:4]\n",
        "                    if imdb_id and title:\n",
        "                        all_movies.append({\n",
        "                            \"title\": title,\n",
        "                            \"year\": year,\n",
        "                            \"imdb_id\": imdb_id\n",
        "                        })\n",
        "                except Exception as e:\n",
        "                    print(f\"⚠️ Failed to fetch IMDb ID for TMDb ID {tmdb_id}: {e}\")\n",
        "        except Exception as e:\n",
        "            print(f\"⚠️ Error on page {page}: {e}\")\n",
        "\n",
        "    # Ensure uniqueness by imdb_id\n",
        "    unique_movies = {m['imdb_id']: m for m in all_movies}.values()\n",
        "    return list(unique_movies)\n",
        "\n",
        "\n",
        "import random\n",
        "\n",
        "def get_movies_by_genre_true_random(genre_id, sample_size=160, pages_to_scan=40):\n",
        "    all_movies = []\n",
        "\n",
        "    for page in tqdm(random.sample(range(1, 501), pages_to_scan)):\n",
        "        try:\n",
        "            response = tmdb.Discover().movie(\n",
        "                with_genres=genre_id,\n",
        "                sort_by='popularity.desc',\n",
        "                page=page,\n",
        "                language='en-US'\n",
        "            )\n",
        "            for movie in response['results']:\n",
        "                tmdb_id = movie['id']\n",
        "                try:\n",
        "                    movie_data = tmdb.Movies(tmdb_id).info()\n",
        "                    imdb_id = movie_data.get(\"imdb_id\")\n",
        "                    title = movie_data.get(\"title\")\n",
        "                    year = movie_data.get(\"release_date\", \"\")[:4]\n",
        "                    if imdb_id and title:\n",
        "                        all_movies.append({\n",
        "                            \"title\": title,\n",
        "                            \"year\": year,\n",
        "                            \"imdb_id\": imdb_id\n",
        "                        })\n",
        "                except: continue\n",
        "        except: continue\n",
        "\n",
        "    # Ensure uniqueness by imdb_id\n",
        "    unique_movies = {m['imdb_id']: m for m in all_movies}.values()\n",
        "    return random.sample(list(unique_movies), min(sample_size, len(unique_movies)))\n",
        "\n",
        "\n",
        "\n",
        "# Define the TMDb genre IDs for our target genres\n",
        "GENRE_IDS = {\n",
        "    \"Action\": 28,\n",
        "    \"Comedy\": 35,\n",
        "    \"Documentary\": 99,\n",
        "    \"History\": 36,\n",
        "    \"Romance\": 10749,\n",
        "    \"Science Fiction\": 878,\n",
        "}\n",
        "\n",
        "# Collect ~160 movies per genre\n",
        "genre_to_movies = {}\n",
        "\n",
        "for genre_name, genre_id in GENRE_IDS.items():\n",
        "    print(f\"\\n🔍 Fetching movies for genre: {genre_name}\")\n",
        "\n",
        "    # movies = get_movies_by_genre_popularity(genre_id, max_pages=8)  # ~20 movies per page\n",
        "    # OR\n",
        "    movies = get_movies_by_genre_true_random(genre_id, sample_size=160, pages_to_scan=40)\n",
        "\n",
        "    genre_to_movies[genre_name] = movies\n",
        "    print()\n",
        "    print(f\"✅ {len(movies)} movies found for {genre_name}\")"
      ],
      "metadata": {
        "id": "5IejmxZyV7vT"
      },
      "execution_count": null,
      "outputs": []
    },
    {
      "cell_type": "code",
      "source": [
        "for genre, movies in genre_to_movies.items():\n",
        "    print(f\"{genre}: {len(movies)}\")"
      ],
      "metadata": {
        "id": "aq4px6IpXFsl"
      },
      "execution_count": null,
      "outputs": []
    },
    {
      "cell_type": "code",
      "source": [
        "import json\n",
        "import os\n",
        "\n",
        "os.makedirs(\"movie_lists\", exist_ok=True)\n",
        "\n",
        "with open(\"movie_lists/genre_to_movies.json\", \"w\", encoding=\"utf-8\") as f:\n",
        "    json.dump(genre_to_movies, f, ensure_ascii=False, indent=2)\n",
        "\n",
        "print(\"✅ Saved genre_to_movies.json\")"
      ],
      "metadata": {
        "id": "KTVvT9VJWyeF"
      },
      "execution_count": null,
      "outputs": []
    },
    {
      "cell_type": "code",
      "source": [
        "import json\n",
        "\n",
        "with open(\"movie_lists/genre_to_movies.json\", \"r\", encoding=\"utf-8\") as f:\n",
        "    genre_to_movies = json.load(f)\n",
        "\n",
        "# For example: first movies in \"Action\"\n",
        "for movie in genre_to_movies[\"Action\"][:5]:\n",
        "    print(movie)"
      ],
      "metadata": {
        "id": "kmXmRJg8XS8Q"
      },
      "execution_count": null,
      "outputs": []
    }
  ]
}